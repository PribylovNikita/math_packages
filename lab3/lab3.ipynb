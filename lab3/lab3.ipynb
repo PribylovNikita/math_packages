{
 "cells": [
  {
   "cell_type": "markdown",
   "metadata": {},
   "source": [
    "# Практическая работа №3:  \n",
    "## Практическое применение библиотеки символьных вычислений Python (SymPy) для решения задач дискретной математики и математической логики"
   ]
  },
  {
   "cell_type": "markdown",
   "metadata": {},
   "source": [
    "Выполнил студент гр. 9381 Прибылов Никита.\n",
    "Вариант 12."
   ]
  },
  {
   "cell_type": "markdown",
   "metadata": {},
   "source": [
    "## Постановка задачи  \n",
    "\n",
    "1. Решить вариант диофантова уравнения.  \n",
    "1. Имея открытую часть ключа RSA найти соответствующую закрытую часть и расшифровать кодированное слово.  \n",
    "1. Записать в формате ДНФ и КНФ булеву функцию, заданную своим аналитическим выражением.  \n"
   ]
  },
  {
   "cell_type": "markdown",
   "metadata": {},
   "source": [
    "## Выполнение работы"
   ]
  },
  {
   "cell_type": "markdown",
   "metadata": {},
   "source": [
    "Решить уравнение $1768x+1785y=51$"
   ]
  },
  {
   "cell_type": "code",
   "execution_count": 2,
   "metadata": {
    "scrolled": true
   },
   "outputs": [],
   "source": [
    "from sympy.solvers.diophantine import diophantine\n",
    "from sympy import symbols"
   ]
  },
  {
   "cell_type": "code",
   "execution_count": 3,
   "metadata": {
    "scrolled": false
   },
   "outputs": [
    {
     "data": {
      "text/plain": [
       "{(105*t_0 - 3, 3 - 104*t_0)}"
      ]
     },
     "execution_count": 3,
     "metadata": {},
     "output_type": "execute_result"
    }
   ],
   "source": [
    "diophantine(1768*symbols('x') + 1785*symbols('y') - 51)"
   ]
  },
  {
   "cell_type": "markdown",
   "metadata": {},
   "source": [
    "Это соответствует решению $$x=105c-3,\\quad y = -104c+3,\\quad c\\in \\mathbb{Z}$$"
   ]
  },
  {
   "cell_type": "markdown",
   "metadata": {},
   "source": [
    "Русское слово из четырех букв закодировано алгоритмом RSA открытым ключом $(e=11, m=34)$. Шифрованное сообщение имеет вид $(21;20;17;8)$. Подберите закрытую часть ключа и прочитайте исходное слово. Буквами русского алфавита соответствуют числа в диапазоне от 2 до 32, исключая буквы 'ё' и 'ъ'."
   ]
  },
  {
   "cell_type": "code",
   "execution_count": 4,
   "metadata": {},
   "outputs": [],
   "source": [
    "from sympy.crypto.crypto import rsa_private_key, decipher_rsa"
   ]
  },
  {
   "cell_type": "code",
   "execution_count": 10,
   "metadata": {},
   "outputs": [
    {
     "name": "stdout",
     "output_type": "stream",
     "text": [
      "Private key: (34, 3)\n",
      "Word: липа\n"
     ]
    }
   ],
   "source": [
    "private_key = rsa_private_key(34, 11)\n",
    "encoded_word = [21, 20, 17, 8]\n",
    "alphabet = [chr(x) for x in range(ord('а'), ord('я')+1)]\n",
    "alphabet.remove('ъ')\n",
    "decoded_word = ''.join([\n",
    "    alphabet[decipher_rsa(x, private_key)-2] for x in encoded_word\n",
    "])\n",
    "print(f\"Private key: {private_key}\\nWord: {decoded_word}\")"
   ]
  },
  {
   "cell_type": "markdown",
   "metadata": {},
   "source": [
    "Записать в формате ДНФ и КНФ булеву функцию, заданную своим аналитическим выражением $f(x,y,z)=((yz)\\otimes(x\\vee z))\\otimes ((x\\vee y)x)$."
   ]
  },
  {
   "cell_type": "code",
   "execution_count": 12,
   "metadata": {},
   "outputs": [],
   "source": [
    "from sympy.logic.boolalg import to_dnf, to_cnf"
   ]
  },
  {
   "cell_type": "code",
   "execution_count": 13,
   "metadata": {
    "scrolled": false
   },
   "outputs": [
    {
     "name": "stdout",
     "output_type": "stream",
     "text": [
      "(x & y & z) | (z & ~x & ~y)\n",
      "z & (x | ~y) & (y | ~x)\n"
     ]
    }
   ],
   "source": [
    "x, y, z = symbols('x y z')\n",
    "\n",
    "f = ((y & z) ^ (x | z)) ^ ((x | y) & x)\n",
    "\n",
    "print(to_dnf(f,True), to_cnf(f,True), sep='\\n')"
   ]
  },
  {
   "cell_type": "markdown",
   "metadata": {},
   "source": [
    "Это соответствует выражениям $xyz\\vee\\overline{x}\\overline{y}z, \\quad (z)(x\\vee\\overline{y})(\\overline{x}\\vee y)$"
   ]
  },
  {
   "cell_type": "markdown",
   "metadata": {},
   "source": [
    "## Вывод  \n",
    "\n",
    "В ходе выполнения данной лабораторной работы была изучена библиотека символьных вычислений ***SymPy***. С помощью данной библиотеки были решены три задачи."
   ]
  }
 ],
 "metadata": {
  "kernelspec": {
   "display_name": "Python 3 (ipykernel)",
   "language": "python",
   "name": "python3"
  },
  "language_info": {
   "codemirror_mode": {
    "name": "ipython",
    "version": 3
   },
   "file_extension": ".py",
   "mimetype": "text/x-python",
   "name": "python",
   "nbconvert_exporter": "python",
   "pygments_lexer": "ipython3",
   "version": "3.8.10"
  }
 },
 "nbformat": 4,
 "nbformat_minor": 4
}
